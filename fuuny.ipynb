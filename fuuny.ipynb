{
 "cells": [
  {
   "cell_type": "code",
   "execution_count": null,
   "metadata": {},
   "outputs": [],
   "source": [
    "from random import randint \n",
    "from time import sleep\n",
    "rand2=randint(1,30)\n",
    "def p():\n",
    "    print(\"\\033c\")\n",
    "    for x in range(1,30,2):\n",
    "        rnd1=randint(1,rand2)\n",
    "        if x==1:\n",
    "            ch=\"c\"\n",
    "        elif rnd1%4==0:\n",
    "            ch=\"f\"\n",
    "        elif rnd1%3==0:\n",
    "            ch=\"l\"\n",
    "        else:\n",
    "            ch=\".\"\n",
    "        print(\"{:^33}\".format(ch*x))\n",
    "    print(\"{:^33}\".format(\"|||\"))\n",
    "    print(\"{:^33}\".format(\"|||\"))\n",
    "    sleep(.31)\n",
    "while True:\n",
    "    p()"
   ]
  },
  {
   "cell_type": "code",
   "execution_count": 11,
   "metadata": {
    "collapsed": true
   },
   "outputs": [
    {
     "name": "stderr",
     "output_type": "stream",
     "text": [
      "No handles with labels found to put in legend.\n"
     ]
    },
    {
     "data": {
      "image/png": "[encoded data removed]",
      "text/plain": [
       "<Figure size 432x288 with 1 Axes>"
      ]
     },
     "metadata": {},
     "output_type": "display_data"
    }
   ],
   "source": [
    "from matplotlib import pyplot as plt\n",
    "from matplotlib import style\n",
    "style.use(\"ggplot\")\n",
    "x=[30,40,50,60]\n",
    "y=[1,10,100,1000]\n",
    "plt.title(\"graph\")\n",
    "plt.xlabel(\"days\")\n",
    "plt.ylabel(\"kms\")\n",
    "plt.plot(x,y)\n",
    "plt.legend()\n",
    "plt.show()"
   ]
  },
  {
   "cell_type": "markdown",
   "metadata": {},
   "source": [
    "#### pandas dataframes\n",
    "- is 2-dimentional labeled array, these are mostly used in analysis\n",
    "- there are various way of creating data frames\n",
    "     - using dictionaries\n",
    "     - using numpy arrays\n",
    "     - using csv files\n",
    "     - using txt files"
   ]
  },
  {
   "cell_type": "code",
   "execution_count": 1,
   "metadata": {},
   "outputs": [
    {
     "data": {
      "text/plain": [
       "0    2\n",
       "1    3\n",
       "2    4\n",
       "3    5\n",
       "dtype: int64"
      ]
     },
     "execution_count": 1,
     "metadata": {},
     "output_type": "execute_result"
    }
   ],
   "source": [
    "import pandas as pd\n",
    "a=pd.Series([2,3,4,5])\n",
    "a"
   ]
  },
  {
   "cell_type": "code",
   "execution_count": null,
   "metadata": {},
   "outputs": [],
   "source": []
  }
 ],
 "metadata": {
  "kernelspec": {
   "display_name": "Python 3",
   "language": "python",
   "name": "python3"
  },
  "language_info": {
   "codemirror_mode": {
    "name": "ipython",
    "version": 3
   },
   "file_extension": ".py",
   "mimetype": "text/x-python",
   "name": "python",
   "nbconvert_exporter": "python",
   "pygments_lexer": "ipython3",
   "version": "3.7.4"
  }
 },
 "nbformat": 4,
 "nbformat_minor": 2
}
